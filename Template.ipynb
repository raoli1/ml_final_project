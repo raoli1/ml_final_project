{
 "cells": [
  {
   "cell_type": "markdown",
   "metadata": {},
   "source": [
    "# This Template is created to make grading fair and straightforward. Anything not in the place as mentioned in the template would not be graded.\n",
    "\n",
    "<font color='red'> # NOTE: We would run the notebook through a Plagiarism Checker. If it is found to be copied, your work would not be graded, and the incident would be highlighted to NYU Authorities. </font>"
   ]
  },
  {
   "cell_type": "markdown",
   "metadata": {},
   "source": [
    "# Import Library and Dataset"
   ]
  },
  {
   "cell_type": "code",
   "execution_count": 4,
   "metadata": {},
   "outputs": [],
   "source": [
    "import pandas as pd\n",
    "import sys\n",
    "import numpy as np\n",
    "from sklearn.preprocessing import StandardScaler\n",
    "#import csv file from the command line as dataframe\n",
    "df=pd.read_csv(sys.argv[1])"
   ]
  },
  {
   "cell_type": "markdown",
   "metadata": {},
   "source": [
    "# PART I: Preprocessing"
   ]
  },
  {
   "cell_type": "markdown",
   "metadata": {},
   "source": [
    "#### Handling missing values. (If ANY)"
   ]
  },
  {
   "cell_type": "code",
   "execution_count": null,
   "metadata": {},
   "outputs": [],
   "source": [
    "#drop weight, finbourgh_flick, double_eight_loop due to missing information and drop player_id due to not related to the target\n",
    "df.drop([\"weight\",\"finbourgh_flick\", \"double_eight_loop\",\"player_id\"], axis=1,inplace=True)\n",
    "\n",
    "#handling missing values by creating another category named 'U'\n",
    "columns_replace=[\"house\",\"player_code\",\"move_specialty\"]\n",
    "for column in columns_replace:\n",
    "\tdf[column].replace(\"?\",\"U\",inplace=True)\n",
    "df[\"gender\"].replace(\"Unknown/Invalid\",\"U\",inplace=True)\n",
    "\n",
    "#drop category 'U' from gender\n",
    "#only very few of rows have unknown type\n",
    "df = df[df.gender != 'U']\n"
   ]
  },
  {
   "cell_type": "markdown",
   "metadata": {},
   "source": [
    "#### Feature Datatype Conversion From Numeric to categoric and Vice-versa. (If ANY)"
   ]
  },
  {
   "cell_type": "code",
   "execution_count": null,
   "metadata": {},
   "outputs": [],
   "source": [
    "#define function for encoding (mapping)\n",
    "def map_features(features,df,dict):\n",
    "\tfor i in features:\n",
    "\t\tdf = df.replace({i:dict})\n",
    "\n",
    "\treturn df\n",
    "\n",
    "#reducing nominal values in snitchnip and stooging\n",
    "foul_dict={'None':'none','Norm':'norm','>7':'high','>8':'high','>200':'high','>300':'high'}\n",
    "foul_columns=[\"snitchnip\",\"stooging\"]\n",
    "df=map_features(foul_columns,df,foul_dict)\n",
    "\n",
    "#generate move specialty dict for reducing nominal values\n",
    "#1 stands for with specialty, 0 stands for without specialty\n",
    "def convert_move_specialty(df):\n",
    "\tdict={}\n",
    "\tfor i in df[\"move_specialty\"]:\n",
    "\t\tif i==\"U\":\n",
    "\t\t\tdict.update({\"U\":0})\n",
    "\t\telse:\n",
    "\t\t\tdict.update({i:1})\n",
    "\treturn dict\n",
    "\n",
    "move_spec_dict=convert_move_specialty(df)\n",
    "df=map_features([\"move_specialty\"],df,move_spec_dict)\n",
    "\n",
    "#23 tactics feature, ready for conversion\n",
    "tactics_columns=[\"body_blow\",\"checking\",\"dopplebeater_defence\",\"hawkshead_attacking_formation\",\"no_hands_tackle\",\"power_play\",\"sloth_grip_roll\",\"spiral_dive\",\"starfish_and_stick\",\"twirl\",\"wronski_feint\",\"zig-zag\",\"bludger_backbeat\",\"chelmondiston_charge\",\"dionysus_dive\",\"reverse_pass\",\"parkins_pincer\",\"plumpton_pass\",\"porskoff_ploy\",\"transylvanian_tackle\",\"woollongong_shimmy\"]\n",
    "\n",
    "#make a copy of dataframe for future use(feature reduction and extraction) before encoding\n",
    "df_tactics_change=df.copy()\n",
    "\n",
    "#convert tactics\n",
    "#Steady, Up, Down to 1, No to 0\n",
    "tactics_dict={'Steady':1,'No':0,'Up':1,'Down':1}\n",
    "df=map_features(tactics_columns,df,tactics_dict)\n",
    "\n",
    "#convert gender\n",
    "#Female to 0, Male to 1\n",
    "\n",
    "ordered_satisfaction = [\"Female\",\"Male\"]\n",
    "cat_dtype = pd.api.types.CategoricalDtype(ordered_satisfaction, ordered=True)\n",
    "df[\"gender\"]=df[\"gender\"].astype(cat_dtype).cat.codes\n",
    "\n",
    "#convert snitch_caught\n",
    "#No to 0, Yes to 1\n",
    "\n",
    "ordered_satisfaction = [\"No\",\"Yes\"]\n",
    "cat_dtype = pd.api.types.CategoricalDtype(ordered_satisfaction, ordered=True)\n",
    "df[\"snitch_caught\"]=df[\"snitch_caught\"].astype(cat_dtype).cat.codes\n",
    "\n",
    "#convert change\n",
    "#No to 0,Ch to 1\n",
    "\n",
    "ordered_satisfaction = [\"No\",\"Ch\"]\n",
    "cat_dtype = pd.api.types.CategoricalDtype(ordered_satisfaction, ordered=True)\n",
    "df[\"change\"]=df[\"change\"].astype(cat_dtype).cat.codes\n",
    "\n",
    "#covert target\n",
    "#NO to 0, YES to 1\n",
    "#ignore this part when transforming test data\n",
    "\n",
    "ordered_satisfaction = [\"NO\",\"YES\"]\n",
    "cat_dtype = pd.api.types.CategoricalDtype(ordered_satisfaction, ordered=True)\n",
    "df[\"quidditch_league_player\"]=df[\"quidditch_league_player\"].astype(cat_dtype).cat.codes\n",
    "\n",
    "#one-hot encoding rest of columns\n",
    "\n",
    "df=pd.get_dummies(df, columns=[\"house\",\"foul_type_id\",\"game_move_id\",\"penalty_id\",\"player_code\",\"player_type\",\"snitchnip\",\"stooging\"])\n",
    "\n"
   ]
  },
  {
   "cell_type": "markdown",
   "metadata": {},
   "source": [
    "#### Feature Reduction or extraction. (If ANY)"
   ]
  },
  {
   "cell_type": "code",
   "execution_count": null,
   "metadata": {},
   "outputs": [],
   "source": [
    "#sum num_games_satout, num_games_injured, num_games_notpartof and combine them into one feature named num_game_not_participate\n",
    "\n",
    "df[\"num_game_not_participate\"]=df.num_games_satout+df.num_games_injured+df.num_games_notpartof\n",
    "\n",
    "#sum up number of tactic changes into one feature named num_tactics_change\n",
    "\n",
    "#encoding dictionary for helping calculation\n",
    "#Up and Down count for change\n",
    "tactics_change_dict={'Steady':0,'No':0,'Up':1,'Down':1}\n",
    "\n",
    "#do encoding in the copy of dataframe, help calculation\n",
    "df_tactics_change=map_features(tactics_columns,df_tactics_change,tactics_change_dict)\n",
    "\n",
    "#initialize column filled by 0\n",
    "df[\"num_tactics_change\"]=0\n",
    "\n",
    "#define function for sum change of tactics\n",
    "def sum_change_tactics(df,df_copy,columns):\n",
    "\n",
    "\tfor i in columns:\n",
    "\n",
    "\t\tdf[\"num_tactics_change\"]+=df_copy[i]\n",
    "\n",
    "sum_change_tactics(df,df_tactics_change,tactics_columns)\n",
    "\n",
    "\n",
    "#sum up number of tactics used by each player\n",
    "#create new column named num_total_tactics\n",
    "\n",
    "df[\"num_total_tactics\"]=0\n",
    "def sum_tactics(df,columns):\n",
    "\n",
    "\tfor i in columns:\n",
    "\t\t\n",
    "\t\tdf[\"num_total_tactics\"]+=df[i]\n",
    "\n",
    "\treturn df\n",
    "\n",
    "sum_tactics(df,tactics_columns)\n",
    "\n",
    "#move target to the last column\n",
    "#ignore this part when transforming test data\n",
    "df_target=df[\"quidditch_league_player\"]\n",
    "df.drop([\"quidditch_league_player\"], axis=1,inplace=True)\n",
    "df.insert(len(df.columns),\"quidditch_league_player\", df_target)\n",
    "\n"
   ]
  },
  {
   "cell_type": "markdown",
   "metadata": {},
   "source": [
    "#### Any other Pre-processing Used. (Give the name along with the code.)"
   ]
  },
  {
   "cell_type": "code",
   "execution_count": 2,
   "metadata": {},
   "outputs": [
    {
     "ename": "NameError",
     "evalue": "name 'df' is not defined",
     "output_type": "error",
     "traceback": [
      "\u001b[0;31m---------------------------------------------------------------------------\u001b[0m",
      "\u001b[0;31mNameError\u001b[0m                                 Traceback (most recent call last)",
      "\u001b[0;32m<ipython-input-2-43e613085efb>\u001b[0m in \u001b[0;36m<module>\u001b[0;34m\u001b[0m\n\u001b[1;32m      9\u001b[0m                 \u001b[0mdf\u001b[0m\u001b[0;34m[\u001b[0m\u001b[0mi\u001b[0m\u001b[0;34m]\u001b[0m\u001b[0;34m=\u001b[0m\u001b[0mdf\u001b[0m\u001b[0;34m[\u001b[0m\u001b[0mi\u001b[0m\u001b[0;34m]\u001b[0m\u001b[0;34m.\u001b[0m\u001b[0mapply\u001b[0m\u001b[0;34m(\u001b[0m\u001b[0mnp\u001b[0m\u001b[0;34m.\u001b[0m\u001b[0mlog\u001b[0m\u001b[0;34m)\u001b[0m\u001b[0;34m\u001b[0m\u001b[0;34m\u001b[0m\u001b[0m\n\u001b[1;32m     10\u001b[0m \u001b[0;34m\u001b[0m\u001b[0m\n\u001b[0;32m---> 11\u001b[0;31m \u001b[0mlog_transform\u001b[0m\u001b[0;34m(\u001b[0m\u001b[0mdf\u001b[0m\u001b[0;34m,\u001b[0m\u001b[0mlog_transform_columns\u001b[0m\u001b[0;34m)\u001b[0m\u001b[0;34m\u001b[0m\u001b[0;34m\u001b[0m\u001b[0m\n\u001b[0m\u001b[1;32m     12\u001b[0m \u001b[0;34m\u001b[0m\u001b[0m\n\u001b[1;32m     13\u001b[0m \u001b[0;31m#Standardization (v-mean)/std\u001b[0m\u001b[0;34m\u001b[0m\u001b[0;34m\u001b[0m\u001b[0;34m\u001b[0m\u001b[0m\n",
      "\u001b[0;31mNameError\u001b[0m: name 'df' is not defined"
     ]
    }
   ],
   "source": [
    "#log transform\n",
    "\n",
    "log_transform_columns=[\"num_games_satout\",\"num_games_injured\",\"num_games_notpartof\"]\n",
    "def log_transform(df,columns):\n",
    "\n",
    "\tfor i in columns:\n",
    "\t\t#add 1 to original values to perform log transform\n",
    "\t\tdf[i]+=1\n",
    "\t\tdf[i]=df[i].apply(np.log)\n",
    "\n",
    "log_transform(df,log_transform_columns)\n",
    "\n",
    "#Standardization (v-mean)/std\n",
    "\n",
    "numeric_columns=[\"game_duration\",\"num_game_moves\",\"num_game_losses\",\"num_practice_sessions\",\"num_games_satout\",\"num_games_injured\",\"num_games_notpartof\",\"num_games_won\",\"age\",\"num_total_tactics\",\"num_game_not_participate\",\"num_tactics_change\"]\n",
    "def standardize_numeric_value(df,columns):\n",
    "\tscaler = StandardScaler()\n",
    "\tfor i in columns:\n",
    "\n",
    "\t\tdf[i]=scaler.fit_transform(df[i].values.reshape(-1,1))\n",
    "\n",
    "standardize_numeric_value(df,numeric_columns)\n",
    "\n",
    "#remove outliers\n",
    "def remove_outliers(df,columns):\n",
    "\n",
    "\tfor i in columns:\n",
    "\t\t\n",
    "\t\tdf = df[np.abs(df[i] - df[i].mean()) <= (3 * df[i].std())]\n",
    "\t\t\n",
    "remove_outliers(df,numeric_columns)\n",
    "\n",
    "#generate correlation matrix to observe\n",
    "df_corr=df.corr()\n",
    "df_corr.to_csv(\"correlation.csv\")\n",
    "\n",
    "df.to_csv(\"data_aftercleaned.csv\",index=False)\n",
    "\n"
   ]
  },
  {
   "cell_type": "code",
   "execution_count": null,
   "metadata": {},
   "outputs": [],
   "source": []
  },
  {
   "cell_type": "markdown",
   "metadata": {},
   "source": [
    "# PART II: Classification"
   ]
  },
  {
   "cell_type": "markdown",
   "metadata": {},
   "source": [
    "### Model 1:\n",
    "Model Name:-----------<br>\n",
    "Evaluation method and metric used Name:-----------<br>\n",
    "Name of the Hyperparameter used:--------------......<br>\n"
   ]
  },
  {
   "cell_type": "code",
   "execution_count": 5,
   "metadata": {},
   "outputs": [],
   "source": [
    "#Code..."
   ]
  },
  {
   "cell_type": "code",
   "execution_count": null,
   "metadata": {},
   "outputs": [],
   "source": []
  },
  {
   "cell_type": "markdown",
   "metadata": {},
   "source": [
    "### Model 2:\n",
    "Model Name:-----------<br>\n",
    "Evaluation method and metric used Name:-----------<br>\n",
    "Name of the Hyperparameter used:--------------......<br>\n"
   ]
  },
  {
   "cell_type": "code",
   "execution_count": null,
   "metadata": {},
   "outputs": [],
   "source": [
    "#Code..."
   ]
  },
  {
   "cell_type": "code",
   "execution_count": null,
   "metadata": {},
   "outputs": [],
   "source": []
  },
  {
   "cell_type": "markdown",
   "metadata": {},
   "source": [
    "### Model 3:\n",
    "Model Name:-----------<br>\n",
    "Evaluation method and metric used Name:-----------<br>\n",
    "Name of the Hyperparameter used:--------------......<br>\n"
   ]
  },
  {
   "cell_type": "code",
   "execution_count": null,
   "metadata": {},
   "outputs": [],
   "source": [
    "#Code..."
   ]
  },
  {
   "cell_type": "code",
   "execution_count": null,
   "metadata": {},
   "outputs": [],
   "source": []
  },
  {
   "cell_type": "markdown",
   "metadata": {},
   "source": [
    "# PART III: Best Hypothesis:\n",
    "Model Name:------------<br>\n",
    "Reason:--------------<br>\n",
    "Hyper-parameter Value:-----------<br>\n"
   ]
  },
  {
   "cell_type": "code",
   "execution_count": null,
   "metadata": {},
   "outputs": [],
   "source": []
  }
 ],
 "metadata": {
  "kernelspec": {
   "display_name": "Python 3",
   "language": "python",
   "name": "python3"
  },
  "language_info": {
   "codemirror_mode": {
    "name": "ipython",
    "version": 3
   },
   "file_extension": ".py",
   "mimetype": "text/x-python",
   "name": "python",
   "nbconvert_exporter": "python",
   "pygments_lexer": "ipython3",
   "version": "3.7.3"
  }
 },
 "nbformat": 4,
 "nbformat_minor": 2
}
